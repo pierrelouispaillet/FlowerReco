{
 "cells": [
  {
   "cell_type": "code",
   "execution_count": 26,
   "metadata": {},
   "outputs": [
    {
     "name": "stderr",
     "output_type": "stream",
     "text": [
      "C:\\Users\\Hugol\\AppData\\Local\\Temp\\ipykernel_7748\\3949016679.py:25: DeprecationWarning: Starting with ImageIO v3 the behavior of this function will switch to that of iio.v3.imread. To keep the current behavior (and make this warning disappear) use `import imageio.v2 as imageio` or call `imageio.v2.imread` directly.\n",
      "  image = imageio.imread(image_path)\n"
     ]
    },
    {
     "name": "stdout",
     "output_type": "stream",
     "text": [
      "(2936, 180, 180, 3)\n",
      "(2936, 5)\n",
      "(734, 180, 180, 3)\n",
      "(734, 5)\n"
     ]
    }
   ],
   "source": [
    "import os\n",
    "import numpy as np\n",
    "import tensorflow as tf\n",
    "from tensorflow import keras\n",
    "from tensorflow.keras.preprocessing import image\n",
    "from sklearn.model_selection import train_test_split\n",
    "import cv2\n",
    "from keras.utils import to_categorical\n",
    "import imageio\n",
    "\n",
    "\n",
    "from sklearn.preprocessing import LabelEncoder\n",
    "import numpy as np\n",
    "\n",
    "\n",
    "def create_image_data(dataset_dir):\n",
    "    class_names = os.listdir(dataset_dir)\n",
    "    class_names.sort()\n",
    "    images = []\n",
    "    labels = []\n",
    "    for class_id, class_name in enumerate(class_names):\n",
    "        class_dir = os.path.join(dataset_dir, class_name)\n",
    "        image_paths = [os.path.join(class_dir, image_name) for image_name in os.listdir(class_dir)]\n",
    "        for image_path in image_paths:\n",
    "            image = imageio.imread(image_path)\n",
    "            # Resize the image to a fixed size\n",
    "            image = cv2.resize(image, (180, 180))\n",
    "            images.append(image)\n",
    "            labels.append(class_id)\n",
    "    # Convert the list of images to a numpy array\n",
    "    images = np.array(images, dtype=np.float32)\n",
    "    # Convert the list of labels to a numpy array\n",
    "    labels = np.array(labels, dtype=np.int32)\n",
    "    return images, labels\n",
    "\n",
    "# Load the flower dataset\n",
    "dataset_dir = \"C:\\\\Users\\\\Hugol\\\\VisualStudioCode\\\\ECE\\\\inge_4\\\\AI\\\\projet\\\\FlowerReco\\\\flower_photos\"\n",
    "images, labels = create_image_data(dataset_dir)\n",
    "\n",
    "# Split the dataset into a training set and a test set\n",
    "train_images, test_images, train_labels, test_labels = train_test_split(images, labels, test_size=0.2)\n",
    "\n",
    "train_labels = to_categorical(train_labels, num_classes=5)\n",
    "test_labels = to_categorical(test_labels, num_classes=5)\n",
    "\n",
    "\n",
    "print(train_images.shape)\n",
    "print(train_labels.shape)\n",
    "print(test_images.shape)\n",
    "print(test_labels.shape)\n",
    "\n",
    "\n",
    "# Define the model architecture\n",
    "model = keras.Sequential([\n",
    "    keras.layers.Conv2D(32, (3, 3), activation='relu', input_shape=(180,180, 3)),\n",
    "    keras.layers.MaxPooling2D((2, 2)),\n",
    "    keras.layers.Conv2D(64, (3, 3), activation='relu'),\n",
    "    keras.layers.MaxPooling2D((2, 2)),\n",
    "    keras.layers.Conv2D(128, (3, 3), activation='relu'),\n",
    "    keras.layers.MaxPooling2D((2, 2)),\n",
    "    keras.layers.Flatten(),\n",
    "    keras.layers.Dense(128, activation='relu'),\n",
    "    keras.layers.Dense(5, activation='softmax')\n",
    "])"
   ]
  },
  {
   "cell_type": "code",
   "execution_count": 27,
   "metadata": {},
   "outputs": [
    {
     "name": "stdout",
     "output_type": "stream",
     "text": [
      "Model: \"sequential_8\"\n",
      "_________________________________________________________________\n",
      " Layer (type)                Output Shape              Param #   \n",
      "=================================================================\n",
      " conv2d_24 (Conv2D)          (None, 178, 178, 32)      896       \n",
      "                                                                 \n",
      " max_pooling2d_18 (MaxPoolin  (None, 89, 89, 32)       0         \n",
      " g2D)                                                            \n",
      "                                                                 \n",
      " conv2d_25 (Conv2D)          (None, 87, 87, 64)        18496     \n",
      "                                                                 \n",
      " max_pooling2d_19 (MaxPoolin  (None, 43, 43, 64)       0         \n",
      " g2D)                                                            \n",
      "                                                                 \n",
      " conv2d_26 (Conv2D)          (None, 41, 41, 128)       73856     \n",
      "                                                                 \n",
      " max_pooling2d_20 (MaxPoolin  (None, 20, 20, 128)      0         \n",
      " g2D)                                                            \n",
      "                                                                 \n",
      " flatten_8 (Flatten)         (None, 51200)             0         \n",
      "                                                                 \n",
      " dense_16 (Dense)            (None, 128)               6553728   \n",
      "                                                                 \n",
      " dense_17 (Dense)            (None, 5)                 645       \n",
      "                                                                 \n",
      "=================================================================\n",
      "Total params: 6,647,621\n",
      "Trainable params: 6,647,621\n",
      "Non-trainable params: 0\n",
      "_________________________________________________________________\n"
     ]
    }
   ],
   "source": [
    "\n",
    "\n",
    "model.compile(optimizer='adam', loss='categorical_crossentropy', metrics=['accuracy'])\n",
    "model.summary()\n"
   ]
  },
  {
   "cell_type": "code",
   "execution_count": 28,
   "metadata": {},
   "outputs": [
    {
     "name": "stdout",
     "output_type": "stream",
     "text": [
      "Epoch 1/9\n",
      "92/92 [==============================] - 85s 907ms/step - loss: 30.0303 - accuracy: 0.2483 - val_loss: 1.6053 - val_accuracy: 0.2371\n",
      "Epoch 2/9\n",
      "92/92 [==============================] - 78s 846ms/step - loss: 1.5578 - accuracy: 0.2946 - val_loss: 1.6504 - val_accuracy: 0.2452\n",
      "Epoch 3/9\n",
      "92/92 [==============================] - 75s 813ms/step - loss: 1.4923 - accuracy: 0.3273 - val_loss: 1.7155 - val_accuracy: 0.2548\n",
      "Epoch 4/9\n",
      "92/92 [==============================] - 74s 803ms/step - loss: 1.3569 - accuracy: 0.4070 - val_loss: 1.8510 - val_accuracy: 0.2997\n",
      "Epoch 5/9\n",
      "92/92 [==============================] - 82s 891ms/step - loss: 1.2433 - accuracy: 0.4826 - val_loss: 1.7344 - val_accuracy: 0.2738\n",
      "Epoch 6/9\n",
      "92/92 [==============================] - 78s 852ms/step - loss: 1.1115 - accuracy: 0.5395 - val_loss: 2.0499 - val_accuracy: 0.3229\n",
      "Epoch 7/9\n",
      "92/92 [==============================] - 80s 874ms/step - loss: 0.8997 - accuracy: 0.6352 - val_loss: 2.4874 - val_accuracy: 0.3474\n",
      "Epoch 8/9\n",
      "92/92 [==============================] - 78s 848ms/step - loss: 0.7434 - accuracy: 0.6986 - val_loss: 2.9635 - val_accuracy: 0.2875\n",
      "Epoch 9/9\n",
      "92/92 [==============================] - 82s 888ms/step - loss: 0.6012 - accuracy: 0.7674 - val_loss: 3.2556 - val_accuracy: 0.3828\n"
     ]
    }
   ],
   "source": [
    "epochs = 9\n",
    "\n",
    "history = model.fit(train_images, train_labels, epochs=epochs, validation_data=(test_images, test_labels))\n"
   ]
  },
  {
   "cell_type": "code",
   "execution_count": 29,
   "metadata": {},
   "outputs": [
    {
     "name": "stdout",
     "output_type": "stream",
     "text": [
      "Validation Loss:  3.2555606365203857\n",
      "Validation Accuracy:  0.3828337788581848\n"
     ]
    }
   ],
   "source": [
    "val_loss, val_acc = model.evaluate(test_images, test_labels, verbose=0)\n",
    "print(\"Validation Loss: \", val_loss)\n",
    "print(\"Validation Accuracy: \", val_acc)\n"
   ]
  },
  {
   "cell_type": "code",
   "execution_count": 30,
   "metadata": {},
   "outputs": [],
   "source": [
    "model.save(\"flower_classifier.h5\")\n"
   ]
  }
 ],
 "metadata": {
  "kernelspec": {
   "display_name": "Python 3",
   "language": "python",
   "name": "python3"
  },
  "language_info": {
   "codemirror_mode": {
    "name": "ipython",
    "version": 3
   },
   "file_extension": ".py",
   "mimetype": "text/x-python",
   "name": "python",
   "nbconvert_exporter": "python",
   "pygments_lexer": "ipython3",
   "version": "3.9.7"
  },
  "orig_nbformat": 4,
  "vscode": {
   "interpreter": {
    "hash": "7a62405303469b120841d7424bb9dcc1c42ccccb3284d28395c789303ce5a4ea"
   }
  }
 },
 "nbformat": 4,
 "nbformat_minor": 2
}
